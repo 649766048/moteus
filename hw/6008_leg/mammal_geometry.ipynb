{
 "cells": [
  {
   "cell_type": "code",
   "execution_count": 2,
   "metadata": {},
   "outputs": [],
   "source": [
    "%matplotlib inline\n",
    "import matplotlib.pyplot as plt\n",
    "import math\n",
    "import sympy as sp"
   ]
  },
  {
   "cell_type": "code",
   "execution_count": 29,
   "metadata": {},
   "outputs": [
    {
     "data": {
      "text/plain": [
       "(acos((Px**2 + Py**2 + l1**2 - l2**2)/(2*l1*sqrt(Px**2 + Py**2))) + atan2(Py, Px) + pi/2,\n",
       " -acos((-Px**2 - Py**2 + l1**2 + l2**2)/(2*l1*l2)) + acos((Px**2 + Py**2 + l1**2 - l2**2)/(2*l1*sqrt(Px**2 + Py**2))) + atan2(Py, Px) + pi/2)"
      ]
     },
     "execution_count": 29,
     "metadata": {},
     "output_type": "execute_result"
    }
   ],
   "source": [
    "# Perform inverse kinematics for an in-plane mammal geometry leg.\n",
    "# This will be used as a component of the full 3dof IK solution.\n",
    "\n",
    "# This is conducted purely in 2d.  The geometry looks like:\n",
    "#\n",
    "#     O               +y\n",
    "#    /                ^\n",
    "#   /  <--- femur     |\n",
    "#  /\n",
    "#  ---------P        -> +x\n",
    "#\n",
    "#    ^tibia\n",
    "#\n",
    "# Where O is the origin and P is the end effector point in the \n",
    "# y/z coordinate frame.  +y is to the right in this diagram and\n",
    "# +z is up.\n",
    "\n",
    "# Px, Py - position of end effector\n",
    "# l1, l2 - length of femur and tibia\n",
    "# theta1 - angle from vertical of upper leg\n",
    "# theta2 - angle from vertical of lower leg\n",
    "Px, Py, l1, l2, theta1, theta2 = sp.symbols('Px Py l1 l2 theta1 theta2')\n",
    "\n",
    "# This is a simple triangle.  We know the length of all three sides,\n",
    "# which means we can find all three angles.\n",
    "\n",
    "# Use the law of cosines to find the tibia angle first.  Note: A\n",
    "# practical implementation of this needs to handle the limited domain\n",
    "# of the relevant actuators and dimensions.\n",
    "norm_PO_sq = Px * Px + Py * Py\n",
    "norm_PO = sp.sqrt(norm_PO_sq)\n",
    "\n",
    "cos_tibia_sub = l1 * l1 + l2 * l2 - norm_PO_sq\n",
    "\n",
    "cos_tibia_inv = cos_tibia_sub / (2 * l1 * l2)\n",
    "tibia_angle = sp.acos(cos_tibia_inv)\n",
    "\n",
    "# Now do the femur.\n",
    "cos_femur_sub = norm_PO_sq + l1 * l1 - l2 * l2\n",
    "cos_femur_inv = cos_femur_sub / (2 * norm_PO * l1)\n",
    "femur_angle = sp.acos(cos_femur_inv)\n",
    "\n",
    "# Finally, convert these triangle angles into theta1 and theta2,\n",
    "# which are both measured relative to vertical.\n",
    "theta1 = sp.atan2(Py, Px) + femur_angle + sp.pi / 2\n",
    "theta2 = theta1 - tibia_angle\n",
    "theta1, theta2\n"
   ]
  },
  {
   "cell_type": "code",
   "execution_count": 5,
   "metadata": {},
   "outputs": [
    {
     "data": {
      "text/plain": [
       "{t1: Fx*l1*cos(theta1) - Fx*l2*cos(theta2) + Fy*l1*sin(theta1) + Fy*l2*sin(theta2),\n",
       " t2: l2*(Fx*cos(theta2) - Fy*sin(theta2))}"
      ]
     },
     "execution_count": 5,
     "metadata": {},
     "output_type": "execute_result"
    }
   ],
   "source": [
    "# Calculate the torque required from an in-plane mammal geometry leg\n",
    "# to achieve a given end-effector force.  We assume that the 3rd degree\n",
    "# of freedom is not a significant contributor to torque requirements.\n",
    "\n",
    "# Fx, Fy - force at end effector\n",
    "# t1, t2 - torque on the upper and lower leg\n",
    "# l1, l2 - length of upper and lower leg\n",
    "# theta1 - angle from vertical of upper leg\n",
    "# theta2 - angle from vertical of lower leg\n",
    "#\n",
    "# Reference free body diagram at: \n",
    "# https://docs.google.com/drawings/d/19iMuQCkOq_pnOxSgBEZ9HpjowesbO7r2yoPeQHNCyjA/edit?usp=sharing\n",
    "Fx, Fy, t1, t2, l1, l2, theta1, theta2 = \\\n",
    "   sp.symbols('Fx Fy t1 t2 l1 l2 theta1 theta2')\n",
    "    \n",
    "# We can trivially determine that F = I, so we'll just use F for I everywhere.\n",
    "    \n",
    "# First, generate the equations for the top member.\n",
    "    \n",
    "# Torque as measured from the top pin point.\n",
    "top_torque = sp.Eq(t1 + t2 - sp.cos(theta1) * l1 * Fx - sp.sin(theta1) * l1 * Fy, 0)\n",
    "\n",
    "# The bottom force equation is identical to the top, so provides no more \n",
    "# degrees of freedom.\n",
    "\n",
    "# Torque as measured from the bottom pin point.\n",
    "bottom_torque = sp.Eq(t2 - sp.cos(theta2) * l2 * Fx + sp.sin(theta2) * l2 * Fy, 0)\n",
    "\n",
    "# Now we have 2 equations and two unknowns.\n",
    "torque_equations = sp.solve([top_torque, bottom_torque], [t1, t2])\n",
    "torque_equations"
   ]
  },
  {
   "cell_type": "code",
   "execution_count": 30,
   "metadata": {},
   "outputs": [
    {
     "data": {
      "text/plain": [
       "-1.53141840691676"
      ]
     },
     "execution_count": 30,
     "metadata": {},
     "output_type": "execute_result"
    }
   ],
   "source": [
    "sl1 = 0.113\n",
    "sl2 = 0.119\n",
    "sPx = 0\n",
    "sPy = -0.20\n",
    "theta2.subs([(l1, sl1), (l2, sl2), (Px, sPx), (Py, sPy)])\n",
    "\n",
    "\n",
    "#r2 = {key: value.subs(theta1, math.radians(30)).subs(theta2, math.radians(15)).subs(l1, sl1).subs(l2, sl2).subs(Fx, 0)\n",
    "#  for key, value in r.items()}\n",
    "#r2\n"
   ]
  }
 ],
 "metadata": {
  "kernelspec": {
   "display_name": "Python 3",
   "language": "python",
   "name": "python3"
  },
  "language_info": {
   "codemirror_mode": {
    "name": "ipython",
    "version": 3
   },
   "file_extension": ".py",
   "mimetype": "text/x-python",
   "name": "python",
   "nbconvert_exporter": "python",
   "pygments_lexer": "ipython3",
   "version": "3.6.7"
  }
 },
 "nbformat": 4,
 "nbformat_minor": 2
}
