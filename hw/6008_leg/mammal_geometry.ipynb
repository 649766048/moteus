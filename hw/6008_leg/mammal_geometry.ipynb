{
 "cells": [
  {
   "cell_type": "markdown",
   "metadata": {},
   "source": [
    "# Mammal geometry leg inverse kinematics\n",
    "\n",
    "Here we determine the inverse kinematics in position and force for\n",
    "mammal geometry legs in 2D.  The 3D case is only slightly more \n",
    "complicated as the lateral angle is solved independently, at which\n",
    "the remaining position is determined using exactly this procedure."
   ]
  },
  {
   "cell_type": "code",
   "execution_count": 1,
   "metadata": {},
   "outputs": [],
   "source": [
    "import math\n",
    "import numpy as np\n",
    "import sympy as sp"
   ]
  },
  {
   "cell_type": "code",
   "execution_count": 2,
   "metadata": {},
   "outputs": [],
   "source": [
    "# This is conducted purely in 2d.  The geometry looks \n",
    "# like:\n",
    "#\n",
    "#     O               +y\n",
    "#    /                ^\n",
    "#   /  <--- femur     |\n",
    "#  /\n",
    "#  ---------P        -> +x\n",
    "#\n",
    "#    ^tibia\n",
    "#\n",
    "# Where O is the origin and P is the end effector point.\n",
    "\n",
    "# Px, Py - position of end effector\n",
    "# l1, l2 - length of femur and tibia\n",
    "# theta1 - angle from vertical of upper leg\n",
    "# theta2 - angle from vertical of lower leg\n",
    "Px, Py, l1, l2, theta1, theta2 = \\\n",
    "    sp.symbols('Px Py l1 l2 theta1 theta2')\n",
    "\n",
    "# This is a simple triangle.  We know the length of all \n",
    "# three sides, which means we can find all three angles.\n",
    "\n",
    "# Use the law of cosines to find the tibia angle first.  \n",
    "# Note: A practical implementation of this needs to \n",
    "# handle the limited domain of the relevant actuators \n",
    "# and other domain errors.\n",
    "norm_PO_sq = Px * Px + Py * Py\n",
    "norm_PO = sp.sqrt(norm_PO_sq)\n",
    "\n",
    "cos_tibia_sub = l1 * l1 + l2 * l2 - norm_PO_sq\n",
    "\n",
    "cos_tibia_inv = cos_tibia_sub / (2 * l1 * l2)\n",
    "tibia_angle = sp.acos(cos_tibia_inv)\n",
    "\n",
    "# Now do the femur.\n",
    "cos_femur_sub = norm_PO_sq + l1 * l1 - l2 * l2\n",
    "cos_femur_inv = cos_femur_sub / (2 * norm_PO * l1)\n",
    "femur_angle = sp.acos(cos_femur_inv)\n",
    "\n",
    "# Finally, convert these triangle angles into theta1 and \n",
    "# theta2, which are both measured relative to vertical, \n",
    "# with positive being a counterclockwise rotation.\n",
    "etheta1 = {theta1: sp.atan2(Py, Px) + femur_angle + \n",
    "           sp.pi / 2}\n",
    "ik = {\n",
    "  'theta1': etheta1[theta1],\n",
    "  'theta2': (theta1 - (sp.pi - tibia_angle)).subs(etheta1)\n",
    "}"
   ]
  },
  {
   "cell_type": "code",
   "execution_count": 3,
   "metadata": {},
   "outputs": [
    {
     "data": {
      "text/plain": [
       "acos((Px**2 + Py**2 + l1**2 - l2**2)/(2*l1*sqrt(Px**2 + Py**2))) + atan2(Py, Px) + pi/2"
      ]
     },
     "execution_count": 3,
     "metadata": {},
     "output_type": "execute_result"
    }
   ],
   "source": [
    "ik['theta1']"
   ]
  },
  {
   "cell_type": "code",
   "execution_count": 4,
   "metadata": {},
   "outputs": [
    {
     "data": {
      "text/plain": [
       "acos((-Px**2 - Py**2 + l1**2 + l2**2)/(2*l1*l2)) + acos((Px**2 + Py**2 + l1**2 - l2**2)/(2*l1*sqrt(Px**2 + Py**2))) + atan2(Py, Px) - pi/2"
      ]
     },
     "execution_count": 4,
     "metadata": {},
     "output_type": "execute_result"
    }
   ],
   "source": [
    "ik['theta2']"
   ]
  },
  {
   "cell_type": "markdown",
   "metadata": {},
   "source": [
    "# Torque\n",
    "\n",
    "Now we will calculate the torque from an in-plane mammal geometry leg to \n",
    "achieve a given end-effector force.  As before, this only solves in 2 dimensions\n",
    "as this is a sub-component of the 3 dimensional solution.\n",
    "\n",
    "![Reference free body diagram](https://docs.google.com/drawings/d/e/2PACX-1vSUltzhAZBrtDqKxn8LvBXLhLOQatCL49l1j8gooBX2Ta413AleyVg1t0NhttvILkd1275p3pvYSvb6/pub?w=764&amp;h=723)"
   ]
  },
  {
   "cell_type": "code",
   "execution_count": 5,
   "metadata": {},
   "outputs": [],
   "source": [
    "# Fx, Fy - force at end effector\n",
    "# t1, t2 - torque on the upper and lower leg\n",
    "# l1, l2 - length of upper and lower leg\n",
    "# theta1 - angle from vertical of upper leg\n",
    "# theta2 - angle from vertical of lower leg\n",
    "Fx, Fy, t1, t2 = sp.symbols('Fx Fy t1 t2')\n",
    "    \n",
    "# We can trivially determine that F = I, so we'll just \n",
    "# use F for I everywhere.\n",
    "    \n",
    "# First, generate the equations for the top member.\n",
    "    \n",
    "# Torque as measured from the top pin point.\n",
    "top_torque = sp.Eq(t1 + t2 - sp.cos(theta1) * l1 * Fx - \n",
    "                   sp.sin(theta1) * l1 * Fy, 0)\n",
    "\n",
    "# The bottom force equation is identical to the top, so \n",
    "# provides no more degrees of freedom.\n",
    "\n",
    "# Torque as measured from the bottom pin point.\n",
    "bottom_torque = sp.Eq(t2 - sp.cos(theta2) * l2 * Fx + \n",
    "                      sp.sin(theta2) * l2 * Fy, 0)\n",
    "\n",
    "# Now we have 2 equations and two unknowns.\n",
    "torque_equations = sp.solve([top_torque, bottom_torque], \n",
    "                            [t1, t2])"
   ]
  },
  {
   "cell_type": "code",
   "execution_count": 6,
   "metadata": {},
   "outputs": [
    {
     "data": {
      "text/plain": [
       "{t1: Fx*l1*cos(theta1) - Fx*l2*cos(theta2) + Fy*l1*sin(theta1) + Fy*l2*sin(theta2),\n",
       " t2: l2*(Fx*cos(theta2) - Fy*sin(theta2))}"
      ]
     },
     "execution_count": 6,
     "metadata": {},
     "output_type": "execute_result"
    }
   ],
   "source": [
    "torque_equations"
   ]
  },
  {
   "cell_type": "markdown",
   "metadata": {},
   "source": [
    "# Static torque required through a gait cycle\n",
    "\n",
    "Now, given a sample leg design (femur and tibia length), determine the torque\n",
    "required of both actuators through a single forward walking gait cycle.  This\n",
    "results in the end effector moving along a line at a constant y position."
   ]
  },
  {
   "cell_type": "code",
   "execution_count": 7,
   "metadata": {},
   "outputs": [],
   "source": [
    "%matplotlib inline\n",
    "import matplotlib.pyplot as plt\n",
    "import matplotlib.animation as animation\n",
    "\n",
    "from IPython.display import HTML\n",
    "\n",
    "plt.rcParams[\"animation.html\"] = \"jshtml\""
   ]
  },
  {
   "cell_type": "code",
   "execution_count": 8,
   "metadata": {},
   "outputs": [],
   "source": [
    "def rotate(theta):\n",
    "    c, s = math.cos(theta), math.sin(theta)\n",
    "    return np.array(((c, -s), (s, c)))\n",
    "\n",
    "class Gait:\n",
    "    def __init__(self, height_off_ground, force=10, \n",
    "                 sl1=0.113, sl2=0.119):\n",
    "        '''height_off_ground - gait offset from maximum \n",
    "                               extension (m)\n",
    "        sl1 - femur length\n",
    "        sl2 - tibia length'''\n",
    "        self.height_off_ground = height_off_ground\n",
    "        self.force = force\n",
    "        self.sl1 = sl1\n",
    "        self.sl2 = sl2\n",
    "\n",
    "        self.ypos = -sl1 - sl2 + self.height_off_ground\n",
    "        self.xmax = .98 * math.sqrt((sl1 + sl2) ** 2 - \n",
    "                                    self.ypos ** 2)\n",
    "        \n",
    "        # An optimal gait is one that runs from an x \n",
    "        # position of 0, until when the tibia is directly \n",
    "        # vertical.  The total torque required outside of\n",
    "        # that range increases drastically.  Compute that \n",
    "        # range here.\n",
    "        self.optimal_xrange = np.array(\n",
    "            [0, math.sqrt(self.sl1**2 - \n",
    "                          (self.ypos + self.sl2)**2)])\n",
    "        \n",
    "    def do_ik(self, x, y):\n",
    "        sPx = x  \n",
    "        sPy = y\n",
    "\n",
    "        exp = [\n",
    "            (l1, self.sl1), \n",
    "            (l2, self.sl2), \n",
    "            (Px, sPx), \n",
    "            (Py, sPy),\n",
    "        ]\n",
    "        current = {key : sp.N(value.subs(exp)) \n",
    "                   for key, value in ik.items()}\n",
    "\n",
    "        # Now do the forward kinematics to find where the \n",
    "        # joint and end-effector position are.\n",
    "\n",
    "        stheta1, stheta2 = (current['theta1'], \n",
    "                            current['theta2'])\n",
    "\n",
    "        p1 = rotate(stheta1).dot(\n",
    "            np.array([[0], [-self.sl1]]))\n",
    "        p2 = p1 + rotate(stheta2).dot(\n",
    "            np.array([[0], [-self.sl2]]))\n",
    "\n",
    "        return {\n",
    "            'stheta1': stheta1,\n",
    "            'stheta2': stheta2,\n",
    "            'p1': p1,\n",
    "            'p2': p2,\n",
    "        }\n",
    "\n",
    "    def find_torques(self, xpos):\n",
    "        r = self.do_ik(xpos, self.ypos)\n",
    "        exp = [(theta1, r['stheta1']),\n",
    "               (theta2, r['stheta2']),\n",
    "               (l1, self.sl1), (l2, self.sl2),\n",
    "               (Fx, 0), (Fy, self.force)]\n",
    "        torques = {key : sp.N(value.subs(exp)) \n",
    "                   for key, value in \n",
    "                   torque_equations.items()}\n",
    "        return torques[t1], torques[t2]\n"
   ]
  },
  {
   "cell_type": "code",
   "execution_count": 9,
   "metadata": {},
   "outputs": [
    {
     "data": {
      "image/png": "[encoded data removed]",
      "text/plain": [
       "<matplotlib.figure.Figure at 0x7fd4531c5940>"
      ]
     },
     "metadata": {},
     "output_type": "display_data"
    }
   ],
   "source": [
    "# Now generate our plots.\n",
    "gait = Gait(0.02, sl1=0.5*0.25, sl2=0.5*0.25, force=15)\n",
    "\n",
    "fig, [ax1, ax2] = plt.subplots(\n",
    "    nrows=1, ncols=2, sharex=True, figsize=(14, 6))\n",
    "ax1.axis('equal')\n",
    "ax1.set_xlim((-0.20, 0.2))\n",
    "ax1.set_ylim((-0.30, 0.1))\n",
    "\n",
    "xspace = np.linspace(-gait.xmax, gait.xmax, 50)\n",
    "\n",
    "torques = [gait.find_torques(x) for x in xspace]\n",
    "\n",
    "# Plot the torques.\n",
    "ax2.plot(xspace, [x[0] for x in torques], label='femur')\n",
    "ax2.plot(xspace, [x[1] for x in torques], label='tibia')\n",
    "ax2.plot(xspace, [abs(x[0]) + abs(x[1]) for x in torques],\n",
    "         label='total')\n",
    "xvline = ax2.axvline(x=0)\n",
    "ax2.legend()\n",
    "\n",
    "# Plot the leg configuration.\n",
    "leg_line, = ax1.plot([], [], 'ro-', lw=3, markersize=10)\n",
    "ax2.axvspan(gait.optimal_xrange[0],\n",
    "            gait.optimal_xrange[1],\n",
    "            color='gray', alpha=0.05)\n",
    "\n",
    "def animate(i):\n",
    "    r = gait.do_ik(xspace[i], gait.ypos)\n",
    "    p1 = r['p1']\n",
    "    p2 = r['p2']\n",
    "    leg_line.set_data([0, p1[0], p2[0]], \n",
    "                      [0, p1[1], p2[1]])\n",
    "    xvline.set_data([xspace[i], xspace[i]], [0, 1])\n",
    "    return (leg_line,)\n",
    "\n",
    "_ = animate(0)"
   ]
  },
  {
   "cell_type": "code",
   "execution_count": 10,
   "metadata": {},
   "outputs": [],
   "source": [
    "# animation.FuncAnimation(fig, animate, frames=len(xspace), interval=60)"
   ]
  },
  {
   "cell_type": "markdown",
   "metadata": {},
   "source": [
    "# Power consumption\n",
    "\n",
    "Now, we will assume actuators which have a known current to torque ratio,\n",
    "and a known resistance.  We will also assume that the primary power requirement\n",
    "is the current required to hold the machine up, and that required for actual\n",
    "forward motion.  This will allow us to calculate the instantaneous\n",
    "and average power required during a gait cycle."
   ]
  },
  {
   "cell_type": "code",
   "execution_count": 11,
   "metadata": {},
   "outputs": [
    {
     "data": {
      "image/png": "[encoded data removed]",
      "text/plain": [
       "<matplotlib.figure.Figure at 0x7fd452cd5e10>"
      ]
     },
     "metadata": {},
     "output_type": "display_data"
    }
   ],
   "source": [
    "# Titan 6008 (0.0450 / 0.06)\n",
    "# BE8108 (0.0875 / 0.10)\n",
    "# 3508 gearbox (0.085 / 0.06)\n",
    "\n",
    "femur_torque_per_amp = 0.0875\n",
    "femur_resistance = 0.10\n",
    "tibia_torque_per_amp = 0.0450 * 1.8  # belt reduction\n",
    "tibia_resistance = 0.06\n",
    "\n",
    "def calculate_power(femur_tibia_torque):\n",
    "    femur_current_A = (femur_tibia_torque[0] / \n",
    "                       femur_torque_per_amp)\n",
    "    femur_power = (femur_current_A ** 2 * \n",
    "                   femur_resistance)\n",
    "    \n",
    "    tibia_current_A = (femur_tibia_torque[1] / \n",
    "                       tibia_torque_per_amp)\n",
    "    tibia_power = tibia_current_A ** 2 * tibia_resistance\n",
    "    \n",
    "    return femur_power, tibia_power\n",
    "\n",
    "def get_gait_parameters(height, scale=1):\n",
    "    total_length = .25 #  .232\n",
    "    ratio = 0.5\n",
    "    gait = Gait(height, force=15 * scale, \n",
    "                sl1=ratio * total_length, \n",
    "                sl2=(1.0 - ratio)*total_length)\n",
    "    xrange = np.linspace(gait.optimal_xrange[0], \n",
    "                         gait.optimal_xrange[1])\n",
    "    torques = [gait.find_torques(x) for x in xrange]\n",
    "\n",
    "    powers = [calculate_power(v) for v in torques]\n",
    "    avg_femur_power = (sum([i[0] for i in powers]) / \n",
    "                       len(powers))\n",
    "    avg_tibia_power = (sum([i[1] for i in powers]) / \n",
    "                       len(powers))\n",
    "    return ((avg_femur_power + avg_tibia_power) / scale, \n",
    "            (gait.optimal_xrange[1] - \n",
    "             gait.optimal_xrange[0])\n",
    "\n",
    "# We will plot the average power required as a function of\n",
    "# height, along with the maximum gait distance.\n",
    "dspace = np.linspace(0.01, 0.10, 5)\n",
    "fig, [ax, ax2] = plt.subplots(nrows=1, ncols=2, \n",
    "                              figsize=(14, 6))\n",
    "\n",
    "ax.set_xlabel('stride (m)')\n",
    "ax.set_ylabel('power (W)')\n",
    "\n",
    "def make_plot(scale):\n",
    "    results = [get_gait_parameters(x, scale=scale) \n",
    "               for x in dspace]\n",
    "    strides = np.array([x[1] for x in results], \n",
    "                       dtype=np.float64)\n",
    "    powers = np.array([x[0] for x in results], \n",
    "                      dtype=np.float64)\n",
    "    line, = ax.plot(strides, powers, \n",
    "                    label='{:d}N'.format(15*scale))\n",
    "    \n",
    "    # Interpolate the power required for a stride of 0.1m \n",
    "    # and denote that on the plot.\n",
    "    power_10cm = np.interp(0.1, strides, powers)\n",
    "    ax.annotate('{:.2f}W'.format(power_10cm), \n",
    "                xy=(0.1, power_10cm),\n",
    "                textcoords='offset pixels', \n",
    "                xytext=(30, 0),\n",
    "                arrowprops=dict(arrowstyle=\"->\"))\n",
    "    return results\n",
    "\n",
    "make_plot(1)\n",
    "make_plot(2)\n",
    "results = make_plot(3)\n",
    "\n",
    "ax.legend(loc='upper left')\n",
    "ax.set_ylim(bottom=0)\n",
    "ax.grid()\n",
    "\n",
    "# The height will be the same for everything, we we just \n",
    "# use the most recent one.\n",
    "ax2.plot([x[1] for x in results], dspace, 'g')\n",
    "ax2.set_ylim(bottom=0)\n",
    "ax2.set_xlabel('stride (m)')\n",
    "ax2.set_ylabel('height (m)')\n",
    "_ = ax2.grid()"
   ]
  }
 ],
 "metadata": {
  "kernelspec": {
   "display_name": "Python 3",
   "language": "python",
   "name": "python3"
  },
  "language_info": {
   "codemirror_mode": {
    "name": "ipython",
    "version": 3
   },
   "file_extension": ".py",
   "mimetype": "text/x-python",
   "name": "python",
   "nbconvert_exporter": "python",
   "pygments_lexer": "ipython3",
   "version": "3.6.7"
  }
 },
 "nbformat": 4,
 "nbformat_minor": 2
}
